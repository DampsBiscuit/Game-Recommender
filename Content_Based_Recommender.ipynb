{
 "cells": [
  {
   "cell_type": "code",
   "execution_count": null,
   "id": "9b8ee30e-edd1-4d5b-a5d1-1646e385bf31",
   "metadata": {},
   "outputs": [],
   "source": [
    "import numpy as np \n",
    "import pandas as pd\n",
    "\n",
    "from sklearn.feature_extraction.text import TfidfVectorizer\n",
    "from sklearn.metrics.pairwise import cosine_similarity"
   ]
  },
  {
   "cell_type": "code",
   "execution_count": null,
   "id": "d620859c-0df0-4dd2-8f78-0dd8cf15cd9d",
   "metadata": {},
   "outputs": [],
   "source": [
    "path = 'games.csv'\n",
    "column_names = ['url', 'types', 'name', 'desc_snippet', 'recent_reviews', 'all_reviews', 'release_date', 'developer', 'publisher', 'popular_tags', 'game_details', 'languages', 'achievements', 'genre', 'game_description', 'mature_content', 'minimum_requirements', 'recommended_requirements', 'original_price']   \n",
    "df = pd.read_csv(path, names=column_names, low_memory=True)\n",
    "df.head()"
   ]
  },
  {
   "cell_type": "code",
   "execution_count": null,
   "id": "4c963aa0-fd58-4357-b5a8-d5b24b4a5bb8",
   "metadata": {},
   "outputs": [],
   "source": [
    "df.info()"
   ]
  },
  {
   "cell_type": "code",
   "execution_count": null,
   "id": "81cd6a14-ccfc-412e-a327-5663e9eaf3af",
   "metadata": {},
   "outputs": [],
   "source": [
    "#variables used\n",
    "df1= df[['name', 'desc_snippet', 'popular_tags','genre', 'original_price']]\n",
    "\n",
    "#delete missing values\n",
    "df2 = pd.DataFrame(df1.dropna())\n",
    "\n",
    "df2.head(10)"
   ]
  },
  {
   "cell_type": "code",
   "execution_count": null,
   "id": "5fc17743-ef64-4f1f-9826-a375643a8bcb",
   "metadata": {},
   "outputs": [],
   "source": [
    "tfidf = TfidfVectorizer(stop_words=\"english\")\n",
    "\n",
    "tfidf_matrix = tfidf.fit_transform(df2[\"desc_snippet\"])\n",
    "\n",
    "tfidf_matrix.shape\n",
    "\n",
    "tfidf_matrix.toarray()"
   ]
  },
  {
   "cell_type": "code",
   "execution_count": null,
   "id": "8bf0db3d-9fb8-4df2-986a-9968983469e8",
   "metadata": {},
   "outputs": [],
   "source": [
    "tfidf.get_feature_names_out()\n",
    "\n",
    "tfidf_matrix.toarray()"
   ]
  },
  {
   "cell_type": "code",
   "execution_count": null,
   "id": "e24fce58-5073-4610-baf2-66aa9ca95c12",
   "metadata": {},
   "outputs": [],
   "source": [
    "cosine_sim = cosine_similarity(tfidf_matrix,\n",
    "                               tfidf_matrix)\n",
    "\n",
    "cosine_sim.shape\n",
    "cosine_sim[1]"
   ]
  },
  {
   "cell_type": "code",
   "execution_count": null,
   "id": "85d6c199-e2ec-4f4e-a776-fce75aed36da",
   "metadata": {},
   "outputs": [],
   "source": [
    "# Asking for user input\n",
    "game = input(\"Please enter a game you like: \")\n",
    "\n",
    "print(f\"Recommended Games:\")\n",
    "\n",
    "# Create an index series for the 'name' column\n",
    "indices = pd.Series(df2.index, index=df2['name']).drop_duplicates()\n",
    "\n",
    "# Check if the game is in the dataset\n",
    "if game in indices:\n",
    "    game_index = indices[game]\n",
    "    \n",
    "    # Calculate similarity scores for the game\n",
    "    sim_scores = pd.DataFrame(cosine_sim[game_index], columns=[\"score\"])\n",
    "    \n",
    "    # Get the top 10 similar games (excluding the input game itself)\n",
    "    game_indices = sim_scores.sort_values(\"score\", ascending=False)[1:11].index\n",
    "    \n",
    "    # Display the recommended games\n",
    "    print(df2[\"name\"].iloc[game_indices])\n",
    "else:\n",
    "    print(f\"Sorry, {game} is not in the dataset.\")"
   ]
  },
  {
   "cell_type": "code",
   "execution_count": null,
   "id": "aa1bb594-46f5-43ab-8e1c-07e6053dfcee",
   "metadata": {},
   "outputs": [],
   "source": [
    "def steam_game_recommender(title, cosine_sim, dataframe):\n",
    "    indices = pd.Series(dataframe.index, index=dataframe['name'])\n",
    "    indices = indices[~indices.index.duplicated(keep='last')]\n",
    "    game_index = indices[title]\n",
    "    sim_scores = pd.DataFrame(cosine_sim[game_index], columns=[\"score\"])\n",
    "    game_indices = sim_scores.sort_values(\"score\", ascending=False)[1:11].index\n",
    "    return dataframe['name'].iloc[game_indices]"
   ]
  },
  {
   "cell_type": "code",
   "execution_count": null,
   "id": "372f1f2a-fd39-44ed-98e8-ac38f357a6f2",
   "metadata": {},
   "outputs": [],
   "source": [
    "steam_game_recommender(game, cosine_sim, df2)"
   ]
  },
  {
   "cell_type": "code",
   "execution_count": null,
   "id": "d9432d6a-d0a9-4968-80ac-5dcdf9342171",
   "metadata": {},
   "outputs": [],
   "source": []
  }
 ],
 "metadata": {
  "kernelspec": {
   "display_name": "Python 3 (ipykernel)",
   "language": "python",
   "name": "python3"
  },
  "language_info": {
   "codemirror_mode": {
    "name": "ipython",
    "version": 3
   },
   "file_extension": ".py",
   "mimetype": "text/x-python",
   "name": "python",
   "nbconvert_exporter": "python",
   "pygments_lexer": "ipython3",
   "version": "3.12.4"
  }
 },
 "nbformat": 4,
 "nbformat_minor": 5
}
